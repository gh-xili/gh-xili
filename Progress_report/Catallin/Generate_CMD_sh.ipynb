{
 "cells": [
  {
   "cell_type": "code",
   "execution_count": 3,
   "id": "extreme-islam",
   "metadata": {},
   "outputs": [],
   "source": [
    "import pandas as pd\n",
    "import os\n",
    "from string import Template"
   ]
  },
  {
   "cell_type": "code",
   "execution_count": 41,
   "id": "referenced-limit",
   "metadata": {},
   "outputs": [],
   "source": [
    "def DIR_CHECK_CREATE(Input_Path):\n",
    "    if (not os.path.isdir(Input_Path)):\n",
    "        print (\"New Dir Made is\" + Input_Path)\n",
    "        os.makedirs(Input_Path)\n",
    "    else: \n",
    "        print ('Dir Exists')\n",
    "    return None\n",
    "\n",
    "def Save_CMD_sh(_str, _out):\n",
    "    text_file = open(_out, \"w\")\n",
    "    text_file.write(_str)\n",
    "    text_file.close()\n",
    "    return None\n",
    "\n",
    "def Save_cmd_sh(_path, _out):\n",
    "    ## this module generate CMD for any input path of cram\n",
    "    \n",
    "    File_Path = _path\n",
    "    Out_Folder=_out\n",
    "    Output_shPATH = Out_Folder+ File_Path.split(\"/\")[-1].split(\".\")[0]+\".molecule_table.sh\"\n",
    "    Output_PATH = Out_Folder+ File_Path.split(\"/\")[-1].split(\".\")[0]+\".molecule_table.tsv\"\n",
    "    \n",
    "    teml = Template(\"$EXE_PATH --input ${bam_file} --input-bed ${wg_bed_file} \\\n",
    "--reference /ghess/shared/ref/genome.fa --num-threads 8 \\\n",
    "--max-insert 500 --output-csv ${output_file} \\n\" )\n",
    "\n",
    "    data={\n",
    "        \"EXE_PATH\": \"/ghess/groups/algorithms/projects/Study_Fragment_Size/version.beta/ghbip_family_stats\",\n",
    "        \"bam_file\": File_Path,\"output_file\": Output_PATH,\n",
    "        \"wg_bed_file\": \"/home/xili/Working_PATH/Study_Fragment_Size/version.beta/Omni1.0_probes.bed\",\n",
    "    }\n",
    "    \n",
    "    \n",
    "    teml2 = Template(\"python $PYTHON_PATH --input ${Input_PATH} --output ${Output_Folder} \" )\n",
    "    data2 = {\n",
    "        \"PYTHON_PATH\": \"/ghess/groups/algorithms/projects/Study_Fragment_Size/version.beta/Generate_FragSize_Distribution.py\",\n",
    "        \"Input_PATH\": Output_PATH,\n",
    "        \"Output_Folder\": Out_Folder\n",
    "    }\n",
    "    \n",
    "    \n",
    "    text_file = open(Output_shPATH, \"w\")\n",
    "    text_file.write(teml.substitute(data))\n",
    "    text_file.write(teml2.substitute(data2))\n",
    "    text_file.close()\n",
    "    return Output_shPATH, File_Path.split(\"/\")[-1].split(\".\")[0]\n",
    "\n",
    "def Run_qsub(_path, _name):\n",
    "    data = {\n",
    "        \"OUTPATH\": _path,\n",
    "        \"NAME\": _name\n",
    "    }\n",
    "    teml = Template(\"qsub -V -q dev.q -j y -b y -cwd -o ${OUTPATH}.log -N ${NAME} -l mem_free=8G,h_vmem=8G -pe parallel 8 sh ${OUTPATH}\" )\n",
    "    \n",
    "    os.system(teml.substitute(data))\n",
    "    return None"
   ]
  },
  {
   "cell_type": "code",
   "execution_count": 42,
   "id": "grave-accessory",
   "metadata": {},
   "outputs": [
    {
     "name": "stdout",
     "output_type": "stream",
     "text": [
      "Dir Exists\n"
     ]
    }
   ],
   "source": [
    "PATH = '/ghess/groups/algorithms/projects/Study_Fragment_Size/Sample/List_of_samples_4TF_training.210708.tsv'\n",
    "PATH = \"/ghess/groups/algorithms/projects/Study_Fragment_Size/Sample/List_of_samples_4TF_testing.210708.tsv\"\n",
    "df_sum = pd.read_csv(PATH, sep='\\t')\n",
    "\n",
    "i=0\n",
    "Out_Path=\"/ghess/groups/algorithms/projects/Study_Fragment_Size/Sample/Testing_Sample/molecule_counts/\"\n",
    "DIR_CHECK_CREATE(Out_Path)\n",
    "for path in df_sum.bam_file:\n",
    "    i+=1\n",
    "    if(os.path.isfile(path)):\n",
    "        #print(\"File is :\", path)\n",
    "        path_sh, name = Save_cmd_sh(path, Out_Path)\n",
    "        Run_qsub(path_sh, name)\n",
    "    #if(i==1):break"
   ]
  },
  {
   "cell_type": "code",
   "execution_count": null,
   "id": "prescription-bikini",
   "metadata": {},
   "outputs": [],
   "source": []
  },
  {
   "cell_type": "code",
   "execution_count": 19,
   "id": "anonymous-india",
   "metadata": {},
   "outputs": [
    {
     "data": {
      "text/plain": [
       "'GENE=FAAP20;GC_CONTENT=0.617;STRAND=+;REPLICATION=1;PROBESET=backbone'"
      ]
     },
     "execution_count": 19,
     "metadata": {},
     "output_type": "execute_result"
    }
   ],
   "source": [
    "df_tem = pd.read_csv(\"Omni1.0_probes.bed\", sep='\\t', skiprows=1, header=None)\n",
    "\n",
    "df_tem[5][0]"
   ]
  }
 ],
 "metadata": {
  "kernelspec": {
   "display_name": "Python 3",
   "language": "python",
   "name": "python3"
  },
  "language_info": {
   "codemirror_mode": {
    "name": "ipython",
    "version": 3
   },
   "file_extension": ".py",
   "mimetype": "text/x-python",
   "name": "python",
   "nbconvert_exporter": "python",
   "pygments_lexer": "ipython3",
   "version": "3.6.12"
  }
 },
 "nbformat": 4,
 "nbformat_minor": 5
}
