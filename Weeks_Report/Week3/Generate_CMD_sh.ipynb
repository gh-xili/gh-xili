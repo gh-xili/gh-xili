{
 "cells": [
  {
   "cell_type": "code",
   "execution_count": 1,
   "id": "practical-mercy",
   "metadata": {},
   "outputs": [],
   "source": [
    "import pandas as pd\n",
    "import os\n",
    "from string import Template"
   ]
  },
  {
   "cell_type": "code",
   "execution_count": 2,
   "id": "joined-techno",
   "metadata": {},
   "outputs": [],
   "source": [
    "def Generate_cmd_sh(_path):\n",
    "    ## this module generate CMD for any input path of cram\n",
    "    \n",
    "    File_Path = _path\n",
    "    Output_PATH = \"/ghess/groups/algorithms/projects/Study_Fragment_Size/Sample/molecule_counts/\"+\\\n",
    "    File_Path.split(\"/\")[-1].split(\".\")[0]+\".molecule_table.tsv\"\n",
    "    \n",
    "    teml = Template(\"$EXE_PATH --input ${bam_file} --input-bed ${wg_bed_file} \\\n",
    "--reference /ghess/shared/ref/genome.fa --num-threads 8 \\\n",
    "--max-insert 500 --output-csv ${output_file}\")\n",
    "\n",
    "    data={\n",
    "        \"EXE_PATH\": \"/ghess/groups/algorithms/projects/Study_Fragment_Size/version.beta/ghbip_family_stats\",\n",
    "        \"bam_file\": File_Path,\"output_file\": Output_PATH,\n",
    "        \"wg_bed_file\": \"/home/xili/Working_PATH/Study_Fragment_Size/version.beta/Omni1.0_probes.bed\",\n",
    "    }\n",
    "    \n",
    "    return teml.substitute(data)\n",
    "\n",
    "def Save_CMD_sh(_str, _out):\n",
    "    text_file = open(_out, \"w\")\n",
    "    text_file.write(_str)\n",
    "    text_file.close()\n",
    "    return None\n",
    "\n",
    "def Save_cmd_sh(_path, _out):\n",
    "    ## this module generate CMD for any input path of cram\n",
    "    \n",
    "    File_Path = _path\n",
    "    Output_shPATH = _out+ File_Path.split(\"/\")[-1].split(\".\")[0]+\".molecule_table.sh\"\n",
    "    Output_PATH = _out+ File_Path.split(\"/\")[-1].split(\".\")[0]+\".molecule_table.tsv\"\n",
    "    \n",
    "    teml = Template(\"$EXE_PATH --input ${bam_file} --input-bed ${wg_bed_file} \\\n",
    "--reference /ghess/shared/ref/genome.fa --num-threads 8 \\\n",
    "--max-insert 500 --output-csv ${output_file}\")\n",
    "\n",
    "    data={\n",
    "        \"EXE_PATH\": \"/ghess/groups/algorithms/projects/Study_Fragment_Size/version.beta/ghbip_family_stats\",\n",
    "        \"bam_file\": File_Path,\"output_file\": Output_PATH,\n",
    "        \"wg_bed_file\": \"/home/xili/Working_PATH/Study_Fragment_Size/version.beta/Omni1.0_probes.bed\",\n",
    "    }\n",
    "    \n",
    "    text_file = open(Output_shPATH, \"w\")\n",
    "    text_file.write(teml.substitute(data))\n",
    "    text_file.close()\n",
    "    return None"
   ]
  },
  {
   "cell_type": "code",
   "execution_count": 68,
   "id": "determined-embassy",
   "metadata": {},
   "outputs": [
    {
     "data": {
      "text/plain": [
       "500"
      ]
     },
     "execution_count": 68,
     "metadata": {},
     "output_type": "execute_result"
    }
   ],
   "source": [
    "i"
   ]
  },
  {
   "cell_type": "code",
   "execution_count": 3,
   "id": "bizarre-sleep",
   "metadata": {},
   "outputs": [],
   "source": [
    "PATH = '/ghess/groups/algorithms/projects/Study_Fragment_Size/Sample/List_of_testing_samples_4TF_training.210630.tsv'\n",
    "df_sum = pd.read_csv(PATH, sep='\\t')\n",
    "\n",
    "i=0\n",
    "Out_Path=\"/ghess/groups/algorithms/projects/Study_Fragment_Size/Sample/molecule_counts/\"\n",
    "\n",
    "for path in df_sum.bam_file:\n",
    "    i+=1\n",
    "    if(os.path.isfile(path)):\n",
    "        #print(\"File is :\", path)\n",
    "        Save_cmd_sh(path, Out_Path)"
   ]
  },
  {
   "cell_type": "code",
   "execution_count": null,
   "id": "least-magnet",
   "metadata": {},
   "outputs": [],
   "source": []
  },
  {
   "cell_type": "code",
   "execution_count": null,
   "id": "qualified-terror",
   "metadata": {},
   "outputs": [],
   "source": []
  },
  {
   "cell_type": "code",
   "execution_count": null,
   "id": "integral-template",
   "metadata": {},
   "outputs": [],
   "source": []
  },
  {
   "cell_type": "code",
   "execution_count": null,
   "id": "quick-hostel",
   "metadata": {},
   "outputs": [],
   "source": []
  }
 ],
 "metadata": {
  "kernelspec": {
   "display_name": "Python 3",
   "language": "python",
   "name": "python3"
  },
  "language_info": {
   "codemirror_mode": {
    "name": "ipython",
    "version": 3
   },
   "file_extension": ".py",
   "mimetype": "text/x-python",
   "name": "python",
   "nbconvert_exporter": "python",
   "pygments_lexer": "ipython3",
   "version": "3.6.12"
  }
 },
 "nbformat": 4,
 "nbformat_minor": 5
}
