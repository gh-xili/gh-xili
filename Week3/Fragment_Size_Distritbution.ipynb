{
 "cells": [
  {
   "cell_type": "code",
   "execution_count": 2,
   "id": "fundamental-alcohol",
   "metadata": {},
   "outputs": [],
   "source": [
    "import pandas as pd\n",
    "import numpy as np\n",
    "import os\n",
    "import matplotlib\n",
    "matplotlib.use('AGG')\n",
    "import matplotlib.pyplot as plt\n",
    "\n",
    "# display plots in this notebook\n",
    "%matplotlib inline"
   ]
  },
  {
   "cell_type": "code",
   "execution_count": null,
   "id": "moderate-beach",
   "metadata": {},
   "outputs": [],
   "source": []
  },
  {
   "cell_type": "code",
   "execution_count": 285,
   "id": "smart-minister",
   "metadata": {},
   "outputs": [],
   "source": [
    "def Add_multi_molecules(_df_tem):\n",
    "    df_tem = _df_tem\n",
    "    df_tem.loc[:, \"FRAGSIZE\"] = df_tem.loc[:, \"end\"] - df_tem.loc[:, \"start\"]\n",
    "    extra_read = []\n",
    "    for read in df_tem[df_tem.num_molecules>1].itertuples():\n",
    "        #print (read)\n",
    "        num = int(read.num_molecules)\n",
    "        for num_y in range(1,num):\n",
    "            extra_read.append(read)\n",
    "    return pd.concat([df_tem, pd.DataFrame(extra_read)], axis=0)\n",
    "#pd.concat([df_tem, pd.DataFrame(extra_read).drop('Index',axis=1)], axis=0)\n",
    "\n",
    "def Generate_Distribution_From_Table(_df_tem, _min, _max):\n",
    "    Min_Fragsize=_min\n",
    "    Max_Fragsize=_max\n",
    "    df_tem = _df_tem\n",
    "    \n",
    "    Out_table = np.zeros(Max_Fragsize-Min_Fragsize, dtype=int)\n",
    "    for idx, x in df_tem.loc[:, \"FRAGSIZE\"].value_counts(sort=False).items():  \n",
    "        #print (idx) ## index = fragsize\n",
    "        if (idx <= Max_Fragsize):\n",
    "            Out_table[idx-1]=x\n",
    "    return Out_table\n",
    "\n",
    "def Process_chunk(_chunk):\n",
    "    chunk_group = _chunk.groupby(by=[\"bin_idx\"])\n",
    "    Min_Fragsize=0\n",
    "    Max_Fragsize=500\n",
    "\n",
    "    Out_Sum = []\n",
    "    Out_idx = []\n",
    "    for group in chunk_group:\n",
    "        Out_idx.append(group[0])\n",
    "        df_chunk = Add_multi_molecules(group[1])\n",
    "        Out_Sum.append(Generate_Distribution_From_Table(df_chunk, Min_Fragsize, Max_Fragsize))\n",
    "\n",
    "    return Out_idx, Out_Sum\n",
    "\n",
    "def Merge_ChunkResults(_df_out):\n",
    "    df_out = _df_out\n",
    "    df_out_dup = df_out.iloc[df_out.index.duplicated(keep=False), :]\n",
    "    if (df_out_dup.empty):\n",
    "        print(\"NO Chunk is used.\")\n",
    "    else:\n",
    "        out_extra_idx   = []\n",
    "        out_extra_table = []\n",
    "        for dup_group in df_out_dup.groupby(level=0):\n",
    "            out_extra_idx.append(dup_group[0])\n",
    "            out_extra_table.append(dup_group[1].sum(axis=0))  ## merge edge of chunksize. by simply addition\n",
    "        df_out_extra = pd.DataFrame(data=out_extra_table, index=out_extra_idx)\n",
    "        df_out = pd.concat( [df_out.iloc[df_out.index.drop_duplicates(keep=False), :], df_out_extra], axis=0).sort_index()\n",
    "    return df_out\n",
    "#pd.DataFrame(data=Out_Sum, index=Out_idx)"
   ]
  },
  {
   "cell_type": "code",
   "execution_count": 299,
   "id": "eligible-fairy",
   "metadata": {},
   "outputs": [
    {
     "name": "stdout",
     "output_type": "stream",
     "text": [
      "NO Chunk is used.\n",
      "Time:  0.140882208943367\n"
     ]
    }
   ],
   "source": [
    "FILE_TYPE = \"molecule_table.tsv\"\n",
    "Search_PATH= \"./\"\n",
    "df_sum = pd.DataFrame()\n",
    "chunksize=10**6\n",
    "Min_Fragsize=0\n",
    "Max_Fragsize=500\n",
    "\n",
    "import timeit\n",
    "\n",
    "start = timeit.default_timer()\n",
    "\n",
    "for file in os.listdir(Search_PATH):\n",
    "    if file.endswith(FILE_TYPE):\n",
    "        out_idx= []\n",
    "        out_table = []\n",
    "        for chunk in pd.read_csv(file, sep=\"\\t\", chunksize=chunksize):\n",
    "            tem_idx, tem_table = Process_chunk(chunk)\n",
    "            out_idx.extend(tem_idx)\n",
    "            out_table.extend(tem_table)\n",
    "            #break\n",
    "    df_out = Merge_ChunkResults(pd.DataFrame(data=out_table, index=out_idx))\n",
    "    break\n",
    "    \n",
    "stop = timeit.default_timer()\n",
    "\n",
    "print('Time: ', stop - start)"
   ]
  },
  {
   "cell_type": "code",
   "execution_count": 290,
   "id": "vocational-column",
   "metadata": {},
   "outputs": [],
   "source": [
    "#df_out.iloc[193,:].plot()\n",
    "df_out.to_csv(\"out_for_\"+file+'.txt', sep='\\t', header=None)"
   ]
  },
  {
   "cell_type": "code",
   "execution_count": 296,
   "id": "familiar-approval",
   "metadata": {},
   "outputs": [
    {
     "data": {
      "text/plain": [
       "<AxesSubplot:>"
      ]
     },
     "execution_count": 296,
     "metadata": {},
     "output_type": "execute_result"
    },
    {
     "data": {
      "image/png": "[encoded data removed]",
      "text/plain": [
       "<Figure size 432x288 with 1 Axes>"
      ]
     },
     "metadata": {
      "needs_background": "light"
     },
     "output_type": "display_data"
    }
   ],
   "source": [
    "df_out.iloc[193,:].plot()"
   ]
  },
  {
   "cell_type": "markdown",
   "id": "demanding-collective",
   "metadata": {},
   "source": [
    "## Backup"
   ]
  },
  {
   "cell_type": "code",
   "execution_count": 77,
   "id": "adaptive-extraction",
   "metadata": {},
   "outputs": [],
   "source": [
    "#back up for Add_multi_molecules\n",
    "\n",
    "df_tem = group[1]\n",
    "df_tem.loc[:, \"FRAGSIZE\"] = df_tem.loc[:, \"end\"] - df_tem.loc[:, \"start\"]\n",
    "\n",
    "extra_read = []\n",
    "for read in df_tem[df_tem.num_molecules>1].itertuples():\n",
    "    #print (read)\n",
    "    num = int(read.num_molecules)\n",
    "    for num_y in range(1,num):\n",
    "        extra_read.append(read)\n",
    "df_tem = pd.concat([df_tem, pd.DataFrame(extra_read).drop('Index',axis=1)], axis=0)\n",
    "#df_tem.loc[:, [\"FRAGSIZE\"]].value_counts()\n",
    "\n",
    "\n",
    "#back up for Process_chunk\n",
    "chunk_group = chunk.groupby(by=[\"bin_idx\"])\n",
    "Min_Fragsize=0\n",
    "Max_Fragsize=500\n",
    "\n",
    "Out_Sum = []\n",
    "Out_idx = []\n",
    "for group in chunk_group:\n",
    "    Out_idx.append(group[0])\n",
    "    df_tem = Add_multi_molecules(group[1])\n",
    "    Out_Sum.append(Generate_Distribution_From_Table(df_tem, Min_Fragsize, Max_Fragsize))\n",
    "    \n",
    "df_output = pd.DataFrame(data=Out_Sum, index=Out_idx)\n",
    "\n",
    "## backup Merge_ChunkResults\n",
    "df_out_dup = df_out.iloc[df_out.index.duplicated(keep=False), :]\n",
    "\n",
    "out_extra_idx   = []\n",
    "out_extra_table = []\n",
    "for dup_group in df_out_dup.groupby(level=0):\n",
    "    out_extra_idx.append(dup_group[0])\n",
    "    out_extra_table.append(dup_group[1].sum(axis=0))  ## merge edge of chunksize. by simply addition\n",
    "df_out_extra = pd.DataFrame(data=out_extra_table, index=out_extra_idx)\n",
    "    \n",
    "df_out_final = pd.concat( [df_out.iloc[df_out.index.drop_duplicates(keep=False), :], df_out_extra], axis=0).sort_index()"
   ]
  },
  {
   "cell_type": "code",
   "execution_count": 126,
   "id": "tired-infrastructure",
   "metadata": {},
   "outputs": [],
   "source": []
  },
  {
   "cell_type": "code",
   "execution_count": 124,
   "id": "intellectual-reserve",
   "metadata": {},
   "outputs": [],
   "source": []
  },
  {
   "cell_type": "code",
   "execution_count": null,
   "id": "contemporary-starter",
   "metadata": {},
   "outputs": [],
   "source": []
  },
  {
   "cell_type": "code",
   "execution_count": 121,
   "id": "human-complaint",
   "metadata": {},
   "outputs": [
    {
     "data": {
      "text/plain": [
       "array([[<AxesSubplot:title={'center':'FRAGSIZE'}>]], dtype=object)"
      ]
     },
     "execution_count": 121,
     "metadata": {},
     "output_type": "execute_result"
    },
    {
     "data": {
      "image/png": "[encoded data removed]",
      "text/plain": [
       "<Figure size 432x288 with 1 Axes>"
      ]
     },
     "metadata": {
      "needs_background": "light"
     },
     "output_type": "display_data"
    }
   ],
   "source": [
    "df_tem.loc[:, [\"FRAGSIZE\"]].hist(bins=600)"
   ]
  },
  {
   "cell_type": "code",
   "execution_count": null,
   "id": "after-electric",
   "metadata": {},
   "outputs": [],
   "source": []
  },
  {
   "cell_type": "code",
   "execution_count": null,
   "id": "elder-explorer",
   "metadata": {},
   "outputs": [],
   "source": []
  },
  {
   "cell_type": "code",
   "execution_count": null,
   "id": "second-sense",
   "metadata": {},
   "outputs": [],
   "source": []
  },
  {
   "cell_type": "code",
   "execution_count": 7,
   "id": "packed-ivory",
   "metadata": {},
   "outputs": [],
   "source": [
    "def Return_Fragsize_Distribution():\n",
    "    return None"
   ]
  },
  {
   "cell_type": "code",
   "execution_count": 6,
   "id": "dimensional-juvenile",
   "metadata": {},
   "outputs": [],
   "source": [
    "#pd.read_csv('A035043401.molecule_table.tsv', sep='\\t')"
   ]
  }
 ],
 "metadata": {
  "kernelspec": {
   "display_name": "Python 3",
   "language": "python",
   "name": "python3"
  },
  "language_info": {
   "codemirror_mode": {
    "name": "ipython",
    "version": 3
   },
   "file_extension": ".py",
   "mimetype": "text/x-python",
   "name": "python",
   "nbconvert_exporter": "python",
   "pygments_lexer": "ipython3",
   "version": "3.6.12"
  }
 },
 "nbformat": 4,
 "nbformat_minor": 5
}
